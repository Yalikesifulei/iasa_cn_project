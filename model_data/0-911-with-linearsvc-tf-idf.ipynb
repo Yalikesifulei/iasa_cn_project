{
 "cells": [
  {
   "cell_type": "markdown",
   "metadata": {
    "papermill": {
     "duration": 0.007887,
     "end_time": "2021-01-25T11:24:28.155928",
     "exception": false,
     "start_time": "2021-01-25T11:24:28.148041",
     "status": "completed"
    },
    "tags": []
   },
   "source": [
    "# Getting 0.91... F1 score with TF-IDF vectorization and LinearSVC"
   ]
  },
  {
   "cell_type": "code",
   "execution_count": 1,
   "metadata": {
    "_cell_guid": "b1076dfc-b9ad-4769-8c92-a6c4dae69d19",
    "_uuid": "8f2839f25d086af736a60e9eeb907d3b93b6e0e5",
    "execution": {
     "iopub.execute_input": "2021-01-25T11:24:28.180163Z",
     "iopub.status.busy": "2021-01-25T11:24:28.179220Z",
     "iopub.status.idle": "2021-01-25T11:24:31.536732Z",
     "shell.execute_reply": "2021-01-25T11:24:31.536063Z"
    },
    "papermill": {
     "duration": 3.371961,
     "end_time": "2021-01-25T11:24:31.536853",
     "exception": false,
     "start_time": "2021-01-25T11:24:28.164892",
     "status": "completed"
    },
    "tags": []
   },
   "outputs": [
    {
     "output_type": "stream",
     "name": "stderr",
     "text": [
      "[nltk_data] Downloading package stopwords to\n[nltk_data]     C:\\Users\\Yalikesi\\AppData\\Roaming\\nltk_data...\n[nltk_data]   Package stopwords is already up-to-date!\n[nltk_data] Downloading package punkt to\n[nltk_data]     C:\\Users\\Yalikesi\\AppData\\Roaming\\nltk_data...\n[nltk_data]   Package punkt is already up-to-date!\n"
     ]
    }
   ],
   "source": [
    "import numpy as np\n",
    "import pandas as pd\n",
    "import re\n",
    "import nltk\n",
    "nltk.download('stopwords')\n",
    "nltk.download('punkt')\n",
    "from nltk.corpus import stopwords\n",
    "from nltk.tokenize import word_tokenize\n",
    "from sklearn.feature_extraction.text import TfidfVectorizer\n",
    "from sklearn.svm import LinearSVC\n",
    "from sklearn.calibration import CalibratedClassifierCV\n",
    "from sklearn.model_selection import GridSearchCV\n",
    "from sklearn.metrics import f1_score, roc_auc_score\n",
    "from joblib import dump\n",
    "from scipy.sparse import save_npz"
   ]
  },
  {
   "cell_type": "code",
   "execution_count": 2,
   "metadata": {
    "execution": {
     "iopub.execute_input": "2021-01-25T11:24:31.577869Z",
     "iopub.status.busy": "2021-01-25T11:24:31.576888Z",
     "iopub.status.idle": "2021-01-25T11:24:34.752019Z",
     "shell.execute_reply": "2021-01-25T11:24:34.750951Z"
    },
    "papermill": {
     "duration": 3.205826,
     "end_time": "2021-01-25T11:24:34.752168",
     "exception": false,
     "start_time": "2021-01-25T11:24:31.546342",
     "status": "completed"
    },
    "tags": []
   },
   "outputs": [],
   "source": [
    "train = pd.read_csv('train.csv', index_col='id')"
   ]
  },
  {
   "cell_type": "markdown",
   "metadata": {
    "papermill": {
     "duration": 0.011109,
     "end_time": "2021-01-25T11:24:34.775085",
     "exception": false,
     "start_time": "2021-01-25T11:24:34.763976",
     "status": "completed"
    },
    "tags": []
   },
   "source": [
    "Processing data: removing html tags, non-word characters, single letters and repeated spaces"
   ]
  },
  {
   "cell_type": "code",
   "execution_count": 3,
   "metadata": {
    "execution": {
     "iopub.execute_input": "2021-01-25T11:24:34.808489Z",
     "iopub.status.busy": "2021-01-25T11:24:34.807811Z",
     "iopub.status.idle": "2021-01-25T11:24:34.819033Z",
     "shell.execute_reply": "2021-01-25T11:24:34.819602Z"
    },
    "papermill": {
     "duration": 0.033196,
     "end_time": "2021-01-25T11:24:34.819761",
     "exception": false,
     "start_time": "2021-01-25T11:24:34.786565",
     "status": "completed"
    },
    "tags": []
   },
   "outputs": [],
   "source": [
    "stop_words = set(stopwords.words('english'))\n",
    "\n",
    "def process(text):\n",
    "      res = re.sub('<.*?>', ' ', text)\n",
    "      res = re.sub('\\W', ' ', res)\n",
    "      res = re.sub('\\s+[a-zA-Z]\\s+', ' ', res)\n",
    "      res = re.sub('\\s+', ' ', res)\n",
    "      word_tokens = word_tokenize(res)\n",
    "      filtered_res = \" \".join([w for w in word_tokens if w not in stop_words])\n",
    "      return filtered_res"
   ]
  },
  {
   "cell_type": "code",
   "execution_count": 4,
   "metadata": {
    "execution": {
     "iopub.execute_input": "2021-01-25T11:24:34.844907Z",
     "iopub.status.busy": "2021-01-25T11:24:34.844106Z",
     "iopub.status.idle": "2021-01-25T11:25:55.643861Z",
     "shell.execute_reply": "2021-01-25T11:25:55.643115Z"
    },
    "papermill": {
     "duration": 80.816031,
     "end_time": "2021-01-25T11:25:55.643979",
     "exception": false,
     "start_time": "2021-01-25T11:24:34.827948",
     "status": "completed"
    },
    "tags": []
   },
   "outputs": [],
   "source": [
    "train['processed'] = train['review'].apply(lambda x: process(x))"
   ]
  },
  {
   "cell_type": "code",
   "execution_count": 5,
   "metadata": {
    "execution": {
     "iopub.execute_input": "2021-01-25T11:25:55.692408Z",
     "iopub.status.busy": "2021-01-25T11:25:55.686908Z",
     "iopub.status.idle": "2021-01-25T11:26:16.619221Z",
     "shell.execute_reply": "2021-01-25T11:26:16.619953Z"
    },
    "papermill": {
     "duration": 20.967652,
     "end_time": "2021-01-25T11:26:16.620141",
     "exception": false,
     "start_time": "2021-01-25T11:25:55.652489",
     "status": "completed"
    },
    "tags": []
   },
   "outputs": [],
   "source": [
    "tfidf = TfidfVectorizer(min_df=3, max_df=0.5, ngram_range=(1, 2))\n",
    "x_train_vector = tfidf.fit_transform(train['processed'])\n",
    "y_train = train['sentiment'].values"
   ]
  },
  {
   "cell_type": "markdown",
   "metadata": {
    "papermill": {
     "duration": 0.012035,
     "end_time": "2021-01-25T11:26:16.644780",
     "exception": false,
     "start_time": "2021-01-25T11:26:16.632745",
     "status": "completed"
    },
    "tags": []
   },
   "source": [
    "Using grid search for regularization parameter"
   ]
  },
  {
   "cell_type": "code",
   "execution_count": 6,
   "metadata": {
    "execution": {
     "iopub.execute_input": "2021-01-25T11:26:16.679078Z",
     "iopub.status.busy": "2021-01-25T11:26:16.677904Z",
     "iopub.status.idle": "2021-01-25T11:26:36.168993Z",
     "shell.execute_reply": "2021-01-25T11:26:36.167562Z"
    },
    "papermill": {
     "duration": 19.511021,
     "end_time": "2021-01-25T11:26:36.169217",
     "exception": false,
     "start_time": "2021-01-25T11:26:16.658196",
     "status": "completed"
    },
    "tags": []
   },
   "outputs": [
    {
     "output_type": "execute_result",
     "data": {
      "text/plain": [
       "GridSearchCV(estimator=LinearSVC(), n_jobs=-1,\n",
       "             param_grid={'C': [0.25, 0.5, 0.75, 1, 1.5, 2]}, scoring='f1')"
      ]
     },
     "metadata": {},
     "execution_count": 6
    }
   ],
   "source": [
    "params = {'C': [0.25, 0.5, 0.75, 1, 1.5, 2]}\n",
    "gs = GridSearchCV(LinearSVC(), params, scoring='f1', n_jobs=-1)\n",
    "gs.fit(x_train_vector, y_train)"
   ]
  },
  {
   "cell_type": "code",
   "execution_count": 7,
   "metadata": {},
   "outputs": [
    {
     "output_type": "execute_result",
     "data": {
      "text/plain": [
       "CalibratedClassifierCV(base_estimator=LinearSVC(C=0.5))"
      ]
     },
     "metadata": {},
     "execution_count": 7
    }
   ],
   "source": [
    "clf = CalibratedClassifierCV(gs.best_estimator_)\n",
    "clf.fit(x_train_vector, y_train)"
   ]
  },
  {
   "cell_type": "code",
   "execution_count": 8,
   "metadata": {},
   "outputs": [
    {
     "output_type": "execute_result",
     "data": {
      "text/plain": [
       "['tfidf.joblib']"
      ]
     },
     "metadata": {},
     "execution_count": 8
    }
   ],
   "source": [
    "dump(clf, 'model.joblib')\n",
    "dump(tfidf, 'tfidf.joblib')"
   ]
  },
  {
   "cell_type": "code",
   "execution_count": 9,
   "metadata": {},
   "outputs": [
    {
     "output_type": "stream",
     "name": "stdout",
     "text": [
      "f1: 0.9915674478314496\nroc auc: 0.9995341193469831\n"
     ]
    }
   ],
   "source": [
    "print('f1:', f1_score(y_train, clf.predict(x_train_vector)))\n",
    "print('roc auc:', roc_auc_score(y_train, clf.predict_proba(x_train_vector)[:, 1]))"
   ]
  },
  {
   "cell_type": "code",
   "execution_count": 10,
   "metadata": {},
   "outputs": [],
   "source": [
    "save_npz('encoded_words.npz', x_train_vector)\n",
    "train.drop(columns=['sentiment', 'processed']).to_csv('reviews.csv')"
   ]
  }
 ],
 "metadata": {
  "kernelspec": {
   "name": "python391jvsc74a57bd0fd618e2f21e38c3489c4afc507039bbdaa55822f5f77efff564552ebb3a7372f",
   "display_name": "Python 3.9.1 64-bit"
  },
  "language_info": {
   "codemirror_mode": {
    "name": "ipython",
    "version": 3
   },
   "file_extension": ".py",
   "mimetype": "text/x-python",
   "name": "python",
   "nbconvert_exporter": "python",
   "pygments_lexer": "ipython3",
   "version": "3.9.1"
  },
  "papermill": {
   "duration": 141.215873,
   "end_time": "2021-01-25T11:26:42.465822",
   "environment_variables": {},
   "exception": null,
   "input_path": "__notebook__.ipynb",
   "output_path": "__notebook__.ipynb",
   "parameters": {},
   "start_time": "2021-01-25T11:24:21.249949",
   "version": "2.1.0"
  },
  "metadata": {
   "interpreter": {
    "hash": "fd618e2f21e38c3489c4afc507039bbdaa55822f5f77efff564552ebb3a7372f"
   }
  }
 },
 "nbformat": 4,
 "nbformat_minor": 4
}